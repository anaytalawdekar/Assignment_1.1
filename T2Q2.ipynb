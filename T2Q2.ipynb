{
 "cells": [
  {
   "cell_type": "code",
   "execution_count": 5,
   "metadata": {},
   "outputs": [
    {
     "name": "stdout",
     "output_type": "stream",
     "text": [
      "pls enter no\n",
      "5\n",
      " *\n",
      " **\n",
      " ***\n",
      " ****\n",
      " *****\n",
      " ****\n",
      " ***\n",
      " **\n",
      " *\n"
     ]
    }
   ],
   "source": [
    "#This programm will take input form user of how many level pyramid need to be made. In current case its 5.\n",
    "print(\"pls enter no\")\n",
    "Pl=int(input())\n",
    "Pn=list(range(1,Pl))\n",
    "Pr=list(range(Pl,0,-1))\n",
    "for i in Pn:\n",
    "    print(\"\"*Pl,\"*\"*i)\n",
    "    Pl=Pl-1\n",
    "else:\n",
    "    for i in Pr:\n",
    "        print(\"\"*Pl,\"*\"*i)\n",
    "        Pl=Pl+1"
   ]
  },
  {
   "cell_type": "code",
   "execution_count": null,
   "metadata": {},
   "outputs": [],
   "source": []
  }
 ],
 "metadata": {
  "kernelspec": {
   "display_name": "Python 3",
   "language": "python",
   "name": "python3"
  },
  "language_info": {
   "codemirror_mode": {
    "name": "ipython",
    "version": 3
   },
   "file_extension": ".py",
   "mimetype": "text/x-python",
   "name": "python",
   "nbconvert_exporter": "python",
   "pygments_lexer": "ipython3",
   "version": "3.6.4"
  }
 },
 "nbformat": 4,
 "nbformat_minor": 2
}
